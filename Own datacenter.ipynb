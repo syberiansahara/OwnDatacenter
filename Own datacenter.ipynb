{
 "cells": [
  {
   "cell_type": "markdown",
   "metadata": {},
   "source": [
    "Стоимость своего датацентра в месяц:\n",
    "(Storage + Servers + Network equipment + UPS + workplace_for_admin)/M +\n",
    "(sysadmin + energy cost (PUE=2.0) + internet traffic cost + rent x square_datacenter) + \n",
    "(support cost + hardware guarantee cost)/12"
   ]
  },
  {
   "cell_type": "markdown",
   "metadata": {},
   "source": [
    "Cloud for 1 month:\n",
    "\n",
    "(0,03$ / MB * 512 TB * 1024 MB/TB) + ( 0.748 $/h * 24 h/day * 30 days/month) * 64 servers = 16К$ + 34K$ = 50K$"
   ]
  },
  {
   "cell_type": "code",
   "execution_count": 136,
   "metadata": {
    "collapsed": false
   },
   "outputs": [
    {
     "data": {
      "text/plain": [
       "3000.0"
      ]
     },
     "execution_count": 136,
     "metadata": {},
     "output_type": "execute_result"
    }
   ],
   "source": [
    "50000 * dollar / 1000"
   ]
  },
  {
   "cell_type": "code",
   "execution_count": 27,
   "metadata": {
    "collapsed": true
   },
   "outputs": [],
   "source": [
    "dollar = 60.0\n",
    "square_datacenter = 70 #m^2 - площадь\n",
    "M = 24"
   ]
  },
  {
   "cell_type": "markdown",
   "metadata": {},
   "source": [
    "https://www.apple.com/shop/product/HLLF2VC/A/g-technology-8tb-g-raid-with-thunderbolt-3-hard-drive-storage-system 649 $ - цена жёсткого диска\n",
    "\n",
    "http://server.trinitygroup.ru/ 154000 - цена сервера\n",
    "\n",
    "support cost + hardware guarantee cost - оценим примерно в 2/10 стоимости всего оборудования в год\n",
    "\n",
    "Тогда конечная формула:\n",
    "\n",
    "(Storage + Servers + Network equipment + UPS + workplace_for_admin) * (1/M + 0.1/12) + (sysadmin + energy cost (PUE=2.0) + internet traffic cost + rent х square_datacenter)"
   ]
  },
  {
   "cell_type": "markdown",
   "metadata": {},
   "source": [
    "## Москва\n",
    "\n",
    "https://blog.irr.ru/view/skolko_stoit_arenda_v_raznyih_gorodah_rossii - цена аренды ок. 10000\n",
    "\n",
    "интернет для бизнеса Ростелеком:\n",
    "https://moscow.rt.ru/b2b/packages\n",
    "\n",
    "установка сетевого оборудования 11000\n",
    "\n",
    "ежемесячно за 10 Мбит\\сек 9191"
   ]
  },
  {
   "cell_type": "code",
   "execution_count": 28,
   "metadata": {
    "collapsed": false
   },
   "outputs": [
    {
     "data": {
      "text/plain": [
       "2177.9566"
      ]
     },
     "execution_count": 28,
     "metadata": {},
     "output_type": "execute_result"
    }
   ],
   "source": [
    "energy_price = 3.600 #кВт / час\n",
    "admin_salary = 70000\n",
    "rent = 10000\n",
    "internet = 9191\n",
    "\n",
    "#Формула\n",
    "(\n",
    "(dollar * 649 * 64 + 154000 * 64 + 11000)*(1.0/M + 0.2/12) + \\\n",
    "(admin_salary * 2 * 1.13 + 0.450 * 64 * energy_price * 24 * 30 + square_datacenter * rent + internet)\n",
    ") / 1000"
   ]
  },
  {
   "cell_type": "markdown",
   "metadata": {},
   "source": [
    "## Владивосток\n",
    "\n",
    "https://energovopros.ru/spravochnik/elektrosnabzhenie/tarify-na-elektroenergiju/3036/32969/\n",
    "https://www.beboss.ru/kn/vladivostok/office и https://www.newsvl.ru/vlad/2017/04/30/158823/ - цена аренды ок. 1000\n",
    "\n",
    "интернет для бизнеса Ростелеком:\n",
    "https://primorye.rt.ru/b2b/packages\n",
    "\n",
    "установка сетевого оборудования 11000\n",
    "\n",
    "ежемесячно за 10 Мбит\\сек 9030"
   ]
  },
  {
   "cell_type": "code",
   "execution_count": 16,
   "metadata": {
    "collapsed": false,
    "scrolled": true
   },
   "outputs": [
    {
     "data": {
      "text/plain": [
       "2928.53088"
      ]
     },
     "execution_count": 16,
     "metadata": {},
     "output_type": "execute_result"
    }
   ],
   "source": [
    "M = 5\n",
    "energy_price = 2.830 #кВт / час\n",
    "admin_salary = 50000\n",
    "rent = 1000\n",
    "internet = 9030\n",
    "\n",
    "#Формула\n",
    "(\n",
    "(dollar * 649 * 64 + 154000 * 64 + 11000)*(1.0/M + 0.2/12) + \\\n",
    "(admin_salary * 2 * 1.13 + 0.450 * 64 * energy_price * 24 * 30 + square_datacenter * rent + internet)\n",
    ") / 1000"
   ]
  },
  {
   "cell_type": "markdown",
   "metadata": {},
   "source": [
    "# Итог\n",
    "### Содержание датацентра в Москве\n",
    "При сроке содержания 5 месяцев:\n",
    "3 619 тыс. руб. / мес. \n",
    "\n",
    "__При сроке содержания 7 месяцев:\n",
    "2913 тыс. руб. / мес.__\n",
    "\n",
    "При сроке содержания 1 год:\n",
    "2 177 тыс. руб. / мес.\n",
    "\n",
    "При сроке содержания 2 года:\n",
    "1 148 тыс. руб. / мес.\n",
    "### Содержание датацентра во Владивостоке\n",
    "\n",
    "__При сроке содержания 5 месяцев:\n",
    "2928 тыс. руб. / мес.__\n",
    "\n",
    "При сроке содержания 6 месяцев:\n",
    "2 516 тыс. руб. / мес.\n",
    "\n",
    "При сроке содержания 1 год:\n",
    "1 486 тыс. руб. / мес.\n",
    "\n",
    "При сроке содержания 2 года:\n",
    "456 тыс. руб. / мес."
   ]
  }
 ],
 "metadata": {
  "kernelspec": {
   "display_name": "Python 2",
   "language": "python",
   "name": "python2"
  },
  "language_info": {
   "codemirror_mode": {
    "name": "ipython",
    "version": 2
   },
   "file_extension": ".py",
   "mimetype": "text/x-python",
   "name": "python",
   "nbconvert_exporter": "python",
   "pygments_lexer": "ipython2",
   "version": "2.7.11"
  }
 },
 "nbformat": 4,
 "nbformat_minor": 0
}
